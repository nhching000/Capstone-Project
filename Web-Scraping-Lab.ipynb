{
 "cells": [
  {
   "cell_type": "markdown",
   "metadata": {},
   "source": [
    "<p style=\"text-align:center\">\n",
    "    <a href=\"https://skills.network/?utm_medium=Exinfluencer&utm_source=Exinfluencer&utm_content=000026UJ&utm_term=10006555&utm_id=NA-SkillsNetwork-Channel-SkillsNetworkCoursesIBMDA0321ENSkillsNetwork928-2022-01-01\" target=\"_blank\">\n",
    "    <img src=\"https://cf-courses-data.s3.us.cloud-object-storage.appdomain.cloud/assets/logos/SN_web_lightmode.png\" width=\"200\" alt=\"Skills Network Logo\"  />\n",
    "    </a>\n",
    "</p>\n"
   ]
  },
  {
   "cell_type": "markdown",
   "metadata": {},
   "source": [
    "# **Hands-on Lab : Web Scraping**\n"
   ]
  },
  {
   "cell_type": "markdown",
   "metadata": {},
   "source": [
    "Estimated time needed: **30 to 45** minutes\n"
   ]
  },
  {
   "cell_type": "markdown",
   "metadata": {},
   "source": [
    "## Objectives\n"
   ]
  },
  {
   "cell_type": "markdown",
   "metadata": {},
   "source": [
    "In this lab you will perform the following:\n"
   ]
  },
  {
   "cell_type": "markdown",
   "metadata": {},
   "source": [
    "* Extract information from a given web site \n",
    "* Write the scraped data into a csv file.\n"
   ]
  },
  {
   "cell_type": "markdown",
   "metadata": {},
   "source": [
    "## Extract information from the given web site\n",
    "You will extract the data from the below web site: <br> \n"
   ]
  },
  {
   "cell_type": "code",
   "execution_count": 1,
   "metadata": {},
   "outputs": [],
   "source": [
    "#this url contains the data you need to scrape\n",
    "url = \"https://cf-courses-data.s3.us.cloud-object-storage.appdomain.cloud/IBM-DA0321EN-SkillsNetwork/labs/datasets/Programming_Languages.html\""
   ]
  },
  {
   "cell_type": "markdown",
   "metadata": {},
   "source": [
    "The data you need to scrape is the **name of the programming language** and **average annual salary**.<br> It is a good idea to open the url in your web broswer and study the contents of the web page before you start to scrape.\n"
   ]
  },
  {
   "cell_type": "markdown",
   "metadata": {},
   "source": [
    "Import the required libraries\n"
   ]
  },
  {
   "cell_type": "code",
   "execution_count": 2,
   "metadata": {},
   "outputs": [],
   "source": [
    "# Your code here\n",
    "from bs4 import BeautifulSoup\n",
    "import requests\n",
    "import pandas as pd"
   ]
  },
  {
   "cell_type": "markdown",
   "metadata": {},
   "source": [
    "Download the webpage at the url\n"
   ]
  },
  {
   "cell_type": "code",
   "execution_count": 3,
   "metadata": {},
   "outputs": [],
   "source": [
    "#your code goes here\n",
    "data  = requests.get(url).text"
   ]
  },
  {
   "cell_type": "markdown",
   "metadata": {},
   "source": [
    "Create a soup object\n"
   ]
  },
  {
   "cell_type": "code",
   "execution_count": 4,
   "metadata": {},
   "outputs": [],
   "source": [
    "#your code goes here\n",
    "soup = BeautifulSoup(data,\"html5lib\")"
   ]
  },
  {
   "cell_type": "markdown",
   "metadata": {},
   "source": [
    "Scrape the `Language name` and `annual average salary`.\n"
   ]
  },
  {
   "cell_type": "code",
   "execution_count": 5,
   "metadata": {},
   "outputs": [
    {
     "name": "stdout",
     "output_type": "stream",
     "text": [
      "Language name= Language and Annual average salary= Average Annual Salary\n",
      "Language name= Python and Annual average salary= $114,383\n",
      "Language name= Java and Annual average salary= $101,013\n",
      "Language name= R and Annual average salary= $92,037\n",
      "Language name= Javascript and Annual average salary= $110,981\n",
      "Language name= Swift and Annual average salary= $130,801\n",
      "Language name= C++ and Annual average salary= $113,865\n",
      "Language name= C# and Annual average salary= $88,726\n",
      "Language name= PHP and Annual average salary= $84,727\n",
      "Language name= SQL and Annual average salary= $84,793\n",
      "Language name= Go and Annual average salary= $94,082\n"
     ]
    },
    {
     "name": "stderr",
     "output_type": "stream",
     "text": [
      "C:\\Users\\NokHi\\AppData\\Local\\Temp\\ipykernel_13732\\3489536775.py:10: FutureWarning: The frame.append method is deprecated and will be removed from pandas in a future version. Use pandas.concat instead.\n",
      "  table_df = table_df.append({'Language name': Language_name, 'annual average salary': Annual_average_saraly}, ignore_index=True)\n",
      "C:\\Users\\NokHi\\AppData\\Local\\Temp\\ipykernel_13732\\3489536775.py:10: FutureWarning: The frame.append method is deprecated and will be removed from pandas in a future version. Use pandas.concat instead.\n",
      "  table_df = table_df.append({'Language name': Language_name, 'annual average salary': Annual_average_saraly}, ignore_index=True)\n",
      "C:\\Users\\NokHi\\AppData\\Local\\Temp\\ipykernel_13732\\3489536775.py:10: FutureWarning: The frame.append method is deprecated and will be removed from pandas in a future version. Use pandas.concat instead.\n",
      "  table_df = table_df.append({'Language name': Language_name, 'annual average salary': Annual_average_saraly}, ignore_index=True)\n",
      "C:\\Users\\NokHi\\AppData\\Local\\Temp\\ipykernel_13732\\3489536775.py:10: FutureWarning: The frame.append method is deprecated and will be removed from pandas in a future version. Use pandas.concat instead.\n",
      "  table_df = table_df.append({'Language name': Language_name, 'annual average salary': Annual_average_saraly}, ignore_index=True)\n",
      "C:\\Users\\NokHi\\AppData\\Local\\Temp\\ipykernel_13732\\3489536775.py:10: FutureWarning: The frame.append method is deprecated and will be removed from pandas in a future version. Use pandas.concat instead.\n",
      "  table_df = table_df.append({'Language name': Language_name, 'annual average salary': Annual_average_saraly}, ignore_index=True)\n",
      "C:\\Users\\NokHi\\AppData\\Local\\Temp\\ipykernel_13732\\3489536775.py:10: FutureWarning: The frame.append method is deprecated and will be removed from pandas in a future version. Use pandas.concat instead.\n",
      "  table_df = table_df.append({'Language name': Language_name, 'annual average salary': Annual_average_saraly}, ignore_index=True)\n",
      "C:\\Users\\NokHi\\AppData\\Local\\Temp\\ipykernel_13732\\3489536775.py:10: FutureWarning: The frame.append method is deprecated and will be removed from pandas in a future version. Use pandas.concat instead.\n",
      "  table_df = table_df.append({'Language name': Language_name, 'annual average salary': Annual_average_saraly}, ignore_index=True)\n",
      "C:\\Users\\NokHi\\AppData\\Local\\Temp\\ipykernel_13732\\3489536775.py:10: FutureWarning: The frame.append method is deprecated and will be removed from pandas in a future version. Use pandas.concat instead.\n",
      "  table_df = table_df.append({'Language name': Language_name, 'annual average salary': Annual_average_saraly}, ignore_index=True)\n",
      "C:\\Users\\NokHi\\AppData\\Local\\Temp\\ipykernel_13732\\3489536775.py:10: FutureWarning: The frame.append method is deprecated and will be removed from pandas in a future version. Use pandas.concat instead.\n",
      "  table_df = table_df.append({'Language name': Language_name, 'annual average salary': Annual_average_saraly}, ignore_index=True)\n",
      "C:\\Users\\NokHi\\AppData\\Local\\Temp\\ipykernel_13732\\3489536775.py:10: FutureWarning: The frame.append method is deprecated and will be removed from pandas in a future version. Use pandas.concat instead.\n",
      "  table_df = table_df.append({'Language name': Language_name, 'annual average salary': Annual_average_saraly}, ignore_index=True)\n",
      "C:\\Users\\NokHi\\AppData\\Local\\Temp\\ipykernel_13732\\3489536775.py:10: FutureWarning: The frame.append method is deprecated and will be removed from pandas in a future version. Use pandas.concat instead.\n",
      "  table_df = table_df.append({'Language name': Language_name, 'annual average salary': Annual_average_saraly}, ignore_index=True)\n"
     ]
    }
   ],
   "source": [
    "#your code goes here\n",
    "table = soup.find('table')\n",
    "table_df = pd.DataFrame(columns=['Language name','annual average salary'])\n",
    "\n",
    "for row in table.find_all('tr'):\n",
    "    cols = row.find_all('td')\n",
    "    Language_name = cols[1].getText()\n",
    "    Annual_average_saraly = cols[3].getText()\n",
    "    print('Language name= {} and Annual average salary= {}'.format(Language_name, Annual_average_saraly))\n",
    "    table_df = table_df.append({'Language name': Language_name, 'annual average salary': Annual_average_saraly}, ignore_index=True)\n",
    "    table_df"
   ]
  },
  {
   "cell_type": "markdown",
   "metadata": {},
   "source": [
    "Save the scrapped data into a file named *popular-languages.csv*\n"
   ]
  },
  {
   "cell_type": "code",
   "execution_count": 9,
   "metadata": {},
   "outputs": [],
   "source": [
    "# your code goes here\n",
    "df = table_df.drop(index=0)\n",
    "df.to_csv('popular-languages.csv')"
   ]
  },
  {
   "cell_type": "markdown",
   "metadata": {},
   "source": [
    "## Authors\n"
   ]
  },
  {
   "cell_type": "markdown",
   "metadata": {},
   "source": [
    "Ramesh Sannareddy\n"
   ]
  },
  {
   "cell_type": "markdown",
   "metadata": {},
   "source": [
    "### Other Contributors\n"
   ]
  },
  {
   "cell_type": "markdown",
   "metadata": {},
   "source": [
    "Rav Ahuja\n"
   ]
  },
  {
   "cell_type": "markdown",
   "metadata": {},
   "source": [
    "## Change Log\n"
   ]
  },
  {
   "cell_type": "markdown",
   "metadata": {},
   "source": [
    "|  Date (YYYY-MM-DD) |  Version | Changed By  |  Change Description |\n",
    "|---|---|---|---|\n",
    "| 2020-10-17  | 0.1  | Ramesh Sannareddy  |  Created initial version of the lab |\n"
   ]
  },
  {
   "cell_type": "markdown",
   "metadata": {},
   "source": [
    " Copyright &copy; 2020 IBM Corporation. This notebook and its source code are released under the terms of the [MIT License](https://cognitiveclass.ai/mit-license/?utm_medium=Exinfluencer&utm_source=Exinfluencer&utm_content=000026UJ&utm_term=10006555&utm_id=NA-SkillsNetwork-Channel-SkillsNetworkCoursesIBMDA0321ENSkillsNetwork928-2022-01-01).\n"
   ]
  }
 ],
 "metadata": {
  "kernelspec": {
   "display_name": "Python 3 (ipykernel)",
   "language": "python",
   "name": "python3"
  },
  "language_info": {
   "codemirror_mode": {
    "name": "ipython",
    "version": 3
   },
   "file_extension": ".py",
   "mimetype": "text/x-python",
   "name": "python",
   "nbconvert_exporter": "python",
   "pygments_lexer": "ipython3",
   "version": "3.10.9"
  }
 },
 "nbformat": 4,
 "nbformat_minor": 4
}
